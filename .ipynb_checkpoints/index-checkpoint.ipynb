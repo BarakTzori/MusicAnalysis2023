{
 "cells": [
  {
   "cell_type": "code",
   "execution_count": 3,
   "metadata": {},
   "outputs": [
    {
     "name": "stdout",
     "output_type": "stream",
     "text": [
      "total songs: 210\n",
      "               Spotify ID                                         Artist IDs  \\\n",
      "0  0Lf9AIOPZqprp67xBWbTG1                             7g3iwvP459BN53F7CDxemI   \n",
      "1  7bu0znpSbTks0O6I98ij0W                             40Yq4vzPs9VNUrIBG5Jr2i   \n",
      "2  6sR4zv1p2GTrdDz9BuNZE0  3uaHfXYx9Fh4HjqMbrWn5S,2vI9KFm0fwSfPrpEgOeIbq,...   \n",
      "\n",
      "                                          Track Name  \\\n",
      "0                  Intermezzo, Op. 118, No. 2 - Live   \n",
      "1                 Tonight, Tonight - Remastered 2012   \n",
      "2  Silly Little Love Song (feat. Brad Mehldau, Ch...   \n",
      "\n",
      "                                          Album Name  \\\n",
      "0                                      The Bandwagon   \n",
      "1  Mellon Collie And The Infinite Sadness (Deluxe...   \n",
      "2  RoundAgain (feat. Brad Mehldau, Christian McBr...   \n",
      "\n",
      "                                      Artist Name(s) Release Date  \\\n",
      "0                                        Jason Moran   2003-01-01   \n",
      "1                              The Smashing Pumpkins         1995   \n",
      "2  Joshua Redman,Brad Mehldau,Brian Blade,Christi...   2020-07-10   \n",
      "\n",
      "   Duration (ms)  Popularity                  Added By              Added At  \\\n",
      "0         399053          28  spotify:user:barak.tzori  2022-10-31T00:49:10Z   \n",
      "1         254626          70  spotify:user:barak.tzori  2022-10-31T15:40:03Z   \n",
      "2         421960          24  spotify:user:barak.tzori  2022-11-01T14:33:44Z   \n",
      "\n",
      "   ... Key  Loudness  Mode  Speechiness  Acousticness  Instrumentalness  \\\n",
      "0  ...   9   -30.385     1       0.0595      0.818000             0.893   \n",
      "1  ...   6    -9.381     1       0.0376      0.000063             0.751   \n",
      "2  ...   1   -10.901     1       0.0397      0.759000             0.886   \n",
      "\n",
      "   Liveness  Valence    Tempo  Time Signature  \n",
      "0    0.0947    0.138   69.916               3  \n",
      "1    0.2370    0.217  148.342               4  \n",
      "2    0.1190    0.403   91.960               4  \n",
      "\n",
      "[3 rows x 23 columns]\n"
     ]
    }
   ],
   "source": [
    "filename = 'song_an_album.csv'\n",
    "\n",
    "from matplotlib import pyplot\n",
    "import seaborn\n",
    "import pandas\n",
    "from collections import defaultdict\n",
    "from scipy.stats import pareto, gamma\n",
    "from datetime import date\n",
    "\n",
    "# read the data\n",
    "data = pandas.read_csv(filename)\n",
    "print(\"total songs:\", data.shape[0])\n",
    "print(data[:3])"
   ]
  },
  {
   "cell_type": "code",
   "execution_count": null,
   "metadata": {},
   "outputs": [],
   "source": []
  }
 ],
 "metadata": {
  "kernelspec": {
   "display_name": "Python 3 (ipykernel)",
   "language": "python",
   "name": "python3"
  },
  "language_info": {
   "codemirror_mode": {
    "name": "ipython",
    "version": 3
   },
   "file_extension": ".py",
   "mimetype": "text/x-python",
   "name": "python",
   "nbconvert_exporter": "python",
   "pygments_lexer": "ipython3",
   "version": "3.11.5"
  }
 },
 "nbformat": 4,
 "nbformat_minor": 4
}
